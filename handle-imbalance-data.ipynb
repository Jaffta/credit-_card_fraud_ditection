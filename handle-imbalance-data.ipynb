{
 "cells": [
  {
   "cell_type": "markdown",
   "metadata": {},
   "source": [
    "## Import Library"
   ]
  },
  {
   "cell_type": "code",
   "execution_count": 1,
   "metadata": {},
   "outputs": [],
   "source": [
    "import numpy as np\n",
    "import pandas as pd\n",
    "\n",
    "from sklearn.datasets import load_boston \n",
    "from sklearn.linear_model import LogisticRegression\n",
    "#from sklearn.metrics import scorer, accuracy_score, f1_score, confusion_matrix, roc_auc_score\n",
    "from sklearn.metrics import classification_report\n",
    "from sklearn.model_selection import train_test_split\n",
    "from sklearn.metrics import accuracy_score\n",
    "from sklearn.metrics import roc_auc_score\n",
    "from sklearn.metrics import f1_score\n",
    "from sklearn.metrics import confusion_matrix\n",
    "\n",
    "from collections import Counter\n",
    "\n",
    "import matplotlib.pyplot as plt\n",
    "import seaborn as sns\n",
    "\n",
    "#plt.rcParams['figure.figsize'] = [20, 7]"
   ]
  },
  {
   "cell_type": "code",
   "execution_count": null,
   "metadata": {},
   "outputs": [],
   "source": []
  },
  {
   "cell_type": "code",
   "execution_count": null,
   "metadata": {},
   "outputs": [],
   "source": []
  },
  {
   "cell_type": "markdown",
   "metadata": {},
   "source": [
    "## load dataset"
   ]
  },
  {
   "cell_type": "code",
   "execution_count": 2,
   "metadata": {},
   "outputs": [],
   "source": [
    "data = pd.read_csv('creditcard.csv')"
   ]
  },
  {
   "cell_type": "code",
   "execution_count": 3,
   "metadata": {},
   "outputs": [
    {
     "data": {
      "text/html": [
       "<div>\n",
       "<style scoped>\n",
       "    .dataframe tbody tr th:only-of-type {\n",
       "        vertical-align: middle;\n",
       "    }\n",
       "\n",
       "    .dataframe tbody tr th {\n",
       "        vertical-align: top;\n",
       "    }\n",
       "\n",
       "    .dataframe thead th {\n",
       "        text-align: right;\n",
       "    }\n",
       "</style>\n",
       "<table border=\"1\" class=\"dataframe\">\n",
       "  <thead>\n",
       "    <tr style=\"text-align: right;\">\n",
       "      <th></th>\n",
       "      <th>Unnamed: 0.3</th>\n",
       "      <th>Unnamed: 0.2</th>\n",
       "      <th>Unnamed: 0.1</th>\n",
       "      <th>Unnamed: 0</th>\n",
       "      <th>Time</th>\n",
       "      <th>V1</th>\n",
       "      <th>V2</th>\n",
       "      <th>V3</th>\n",
       "      <th>V4</th>\n",
       "      <th>V5</th>\n",
       "      <th>...</th>\n",
       "      <th>V21</th>\n",
       "      <th>V22</th>\n",
       "      <th>V23</th>\n",
       "      <th>V24</th>\n",
       "      <th>V25</th>\n",
       "      <th>V26</th>\n",
       "      <th>V27</th>\n",
       "      <th>V28</th>\n",
       "      <th>Amount</th>\n",
       "      <th>Class</th>\n",
       "    </tr>\n",
       "  </thead>\n",
       "  <tbody>\n",
       "    <tr>\n",
       "      <th>0</th>\n",
       "      <td>0</td>\n",
       "      <td>0</td>\n",
       "      <td>0</td>\n",
       "      <td>541</td>\n",
       "      <td>406.0</td>\n",
       "      <td>-2.312227</td>\n",
       "      <td>1.951992</td>\n",
       "      <td>-1.609851</td>\n",
       "      <td>3.997906</td>\n",
       "      <td>-0.522188</td>\n",
       "      <td>...</td>\n",
       "      <td>0.517232</td>\n",
       "      <td>-0.035049</td>\n",
       "      <td>-0.465211</td>\n",
       "      <td>0.320198</td>\n",
       "      <td>0.044519</td>\n",
       "      <td>0.177840</td>\n",
       "      <td>0.261145</td>\n",
       "      <td>-0.143276</td>\n",
       "      <td>0.00</td>\n",
       "      <td>1</td>\n",
       "    </tr>\n",
       "    <tr>\n",
       "      <th>1</th>\n",
       "      <td>1</td>\n",
       "      <td>1</td>\n",
       "      <td>1</td>\n",
       "      <td>623</td>\n",
       "      <td>472.0</td>\n",
       "      <td>-3.043541</td>\n",
       "      <td>-3.157307</td>\n",
       "      <td>1.088463</td>\n",
       "      <td>2.288644</td>\n",
       "      <td>1.359805</td>\n",
       "      <td>...</td>\n",
       "      <td>0.661696</td>\n",
       "      <td>0.435477</td>\n",
       "      <td>1.375966</td>\n",
       "      <td>-0.293803</td>\n",
       "      <td>0.279798</td>\n",
       "      <td>-0.145362</td>\n",
       "      <td>-0.252773</td>\n",
       "      <td>0.035764</td>\n",
       "      <td>529.00</td>\n",
       "      <td>1</td>\n",
       "    </tr>\n",
       "    <tr>\n",
       "      <th>2</th>\n",
       "      <td>2</td>\n",
       "      <td>2</td>\n",
       "      <td>2</td>\n",
       "      <td>4920</td>\n",
       "      <td>4462.0</td>\n",
       "      <td>-2.303350</td>\n",
       "      <td>1.759247</td>\n",
       "      <td>-0.359745</td>\n",
       "      <td>2.330243</td>\n",
       "      <td>-0.821628</td>\n",
       "      <td>...</td>\n",
       "      <td>-0.294166</td>\n",
       "      <td>-0.932391</td>\n",
       "      <td>0.172726</td>\n",
       "      <td>-0.087330</td>\n",
       "      <td>-0.156114</td>\n",
       "      <td>-0.542628</td>\n",
       "      <td>0.039566</td>\n",
       "      <td>-0.153029</td>\n",
       "      <td>239.93</td>\n",
       "      <td>1</td>\n",
       "    </tr>\n",
       "    <tr>\n",
       "      <th>3</th>\n",
       "      <td>3</td>\n",
       "      <td>3</td>\n",
       "      <td>3</td>\n",
       "      <td>6108</td>\n",
       "      <td>6986.0</td>\n",
       "      <td>-4.397974</td>\n",
       "      <td>1.358367</td>\n",
       "      <td>-2.592844</td>\n",
       "      <td>2.679787</td>\n",
       "      <td>-1.128131</td>\n",
       "      <td>...</td>\n",
       "      <td>0.573574</td>\n",
       "      <td>0.176968</td>\n",
       "      <td>-0.436207</td>\n",
       "      <td>-0.053502</td>\n",
       "      <td>0.252405</td>\n",
       "      <td>-0.657488</td>\n",
       "      <td>-0.827136</td>\n",
       "      <td>0.849573</td>\n",
       "      <td>59.00</td>\n",
       "      <td>1</td>\n",
       "    </tr>\n",
       "    <tr>\n",
       "      <th>4</th>\n",
       "      <td>4</td>\n",
       "      <td>4</td>\n",
       "      <td>4</td>\n",
       "      <td>6329</td>\n",
       "      <td>7519.0</td>\n",
       "      <td>1.234235</td>\n",
       "      <td>3.019740</td>\n",
       "      <td>-4.304597</td>\n",
       "      <td>4.732795</td>\n",
       "      <td>3.624201</td>\n",
       "      <td>...</td>\n",
       "      <td>-0.379068</td>\n",
       "      <td>-0.704181</td>\n",
       "      <td>-0.656805</td>\n",
       "      <td>-1.632653</td>\n",
       "      <td>1.488901</td>\n",
       "      <td>0.566797</td>\n",
       "      <td>-0.010016</td>\n",
       "      <td>0.146793</td>\n",
       "      <td>1.00</td>\n",
       "      <td>1</td>\n",
       "    </tr>\n",
       "  </tbody>\n",
       "</table>\n",
       "<p>5 rows × 35 columns</p>\n",
       "</div>"
      ],
      "text/plain": [
       "   Unnamed: 0.3  Unnamed: 0.2  Unnamed: 0.1  Unnamed: 0    Time        V1  \\\n",
       "0             0             0             0         541   406.0 -2.312227   \n",
       "1             1             1             1         623   472.0 -3.043541   \n",
       "2             2             2             2        4920  4462.0 -2.303350   \n",
       "3             3             3             3        6108  6986.0 -4.397974   \n",
       "4             4             4             4        6329  7519.0  1.234235   \n",
       "\n",
       "         V2        V3        V4        V5  ...       V21       V22       V23  \\\n",
       "0  1.951992 -1.609851  3.997906 -0.522188  ...  0.517232 -0.035049 -0.465211   \n",
       "1 -3.157307  1.088463  2.288644  1.359805  ...  0.661696  0.435477  1.375966   \n",
       "2  1.759247 -0.359745  2.330243 -0.821628  ... -0.294166 -0.932391  0.172726   \n",
       "3  1.358367 -2.592844  2.679787 -1.128131  ...  0.573574  0.176968 -0.436207   \n",
       "4  3.019740 -4.304597  4.732795  3.624201  ... -0.379068 -0.704181 -0.656805   \n",
       "\n",
       "        V24       V25       V26       V27       V28  Amount  Class  \n",
       "0  0.320198  0.044519  0.177840  0.261145 -0.143276    0.00      1  \n",
       "1 -0.293803  0.279798 -0.145362 -0.252773  0.035764  529.00      1  \n",
       "2 -0.087330 -0.156114 -0.542628  0.039566 -0.153029  239.93      1  \n",
       "3 -0.053502  0.252405 -0.657488 -0.827136  0.849573   59.00      1  \n",
       "4 -1.632653  1.488901  0.566797 -0.010016  0.146793    1.00      1  \n",
       "\n",
       "[5 rows x 35 columns]"
      ]
     },
     "execution_count": 3,
     "metadata": {},
     "output_type": "execute_result"
    }
   ],
   "source": [
    "data.head()"
   ]
  },
  {
   "cell_type": "code",
   "execution_count": 4,
   "metadata": {},
   "outputs": [
    {
     "data": {
      "text/plain": [
       "0    9000\n",
       "1     492\n",
       "Name: Class, dtype: int64"
      ]
     },
     "execution_count": 4,
     "metadata": {},
     "output_type": "execute_result"
    }
   ],
   "source": [
    "data.shape\n",
    "data.Class.value_counts()"
   ]
  },
  {
   "cell_type": "code",
   "execution_count": 77,
   "metadata": {},
   "outputs": [],
   "source": [
    "# separate fraudulent and non fraudulent data\n",
    "data_0 = data[data['Class'] == 0]\n",
    "data_1 = data[data['Class'] == 1]"
   ]
  },
  {
   "cell_type": "code",
   "execution_count": 78,
   "metadata": {},
   "outputs": [],
   "source": [
    "# take only 9000 0's sameple\n",
    "data_0 = data_0.sample(n=9000)"
   ]
  },
  {
   "cell_type": "code",
   "execution_count": 79,
   "metadata": {},
   "outputs": [
    {
     "name": "stderr",
     "output_type": "stream",
     "text": [
      "/var/folders/94/x_h3vf1d7vg3nbb39fj2jf0r0000gn/T/ipykernel_64419/1730244312.py:1: FutureWarning: The frame.append method is deprecated and will be removed from pandas in a future version. Use pandas.concat instead.\n",
      "  data = data_1.append(data_0)\n"
     ]
    },
    {
     "data": {
      "text/plain": [
       "0    9000\n",
       "1     492\n",
       "Name: Class, dtype: int64"
      ]
     },
     "execution_count": 79,
     "metadata": {},
     "output_type": "execute_result"
    }
   ],
   "source": [
    "data = data_1.append(data_0)\n",
    "\n",
    "data.Class.value_counts()"
   ]
  },
  {
   "cell_type": "code",
   "execution_count": 80,
   "metadata": {},
   "outputs": [],
   "source": [
    "# save as csv\n",
    "data.to_csv('creditcard.csv')"
   ]
  },
  {
   "cell_type": "code",
   "execution_count": 81,
   "metadata": {},
   "outputs": [
    {
     "name": "stdout",
     "output_type": "stream",
     "text": [
      "Fraudulent \"1\" : 492\n",
      "Not Fraudulent \"0\": 9000\n",
      "5.466666666666667\n"
     ]
    }
   ],
   "source": [
    "# check the number of 1s and 0s\n",
    "count = data['Class'].value_counts()\n",
    "\n",
    "print('Fraudulent \"1\" :', count[1])\n",
    "print('Not Fraudulent \"0\":', count[0])\n",
    "\n",
    "# print the percentage of question where target == 1\n",
    "print(count[1]/count[0]* 100)"
   ]
  },
  {
   "cell_type": "code",
   "execution_count": 82,
   "metadata": {},
   "outputs": [
    {
     "ename": "ValueError",
     "evalue": "The number of FixedLocator locations (1), usually from a call to set_ticks, does not match the number of ticklabels (2).",
     "output_type": "error",
     "traceback": [
      "\u001b[0;31m---------------------------------------------------------------------------\u001b[0m",
      "\u001b[0;31mValueError\u001b[0m                                Traceback (most recent call last)",
      "Cell \u001b[0;32mIn [82], line 3\u001b[0m\n\u001b[1;32m      1\u001b[0m \u001b[38;5;66;03m# plot the no of 1's and 0's\u001b[39;00m\n\u001b[1;32m      2\u001b[0m g \u001b[38;5;241m=\u001b[39m sns\u001b[38;5;241m.\u001b[39mcountplot(data[\u001b[38;5;124m'\u001b[39m\u001b[38;5;124mClass\u001b[39m\u001b[38;5;124m'\u001b[39m])\n\u001b[0;32m----> 3\u001b[0m \u001b[43mg\u001b[49m\u001b[38;5;241;43m.\u001b[39;49m\u001b[43mset_xticklabels\u001b[49m\u001b[43m(\u001b[49m\u001b[43m[\u001b[49m\u001b[38;5;124;43m'\u001b[39;49m\u001b[38;5;124;43mNot Fraud\u001b[39;49m\u001b[38;5;124;43m'\u001b[39;49m\u001b[43m,\u001b[49m\u001b[43m \u001b[49m\u001b[38;5;124;43m'\u001b[39;49m\u001b[38;5;124;43mFraud\u001b[39;49m\u001b[38;5;124;43m'\u001b[39;49m\u001b[43m]\u001b[49m\u001b[43m)\u001b[49m\n\u001b[1;32m      4\u001b[0m plt\u001b[38;5;241m.\u001b[39mshow()\n",
      "File \u001b[0;32m~/Projects/credit_card_fraud/credit/lib/python3.9/site-packages/matplotlib/axes/_base.py:73\u001b[0m, in \u001b[0;36m_axis_method_wrapper.__set_name__.<locals>.wrapper\u001b[0;34m(self, *args, **kwargs)\u001b[0m\n\u001b[1;32m     72\u001b[0m \u001b[38;5;28;01mdef\u001b[39;00m \u001b[38;5;21mwrapper\u001b[39m(\u001b[38;5;28mself\u001b[39m, \u001b[38;5;241m*\u001b[39margs, \u001b[38;5;241m*\u001b[39m\u001b[38;5;241m*\u001b[39mkwargs):\n\u001b[0;32m---> 73\u001b[0m     \u001b[38;5;28;01mreturn\u001b[39;00m \u001b[43mget_method\u001b[49m\u001b[43m(\u001b[49m\u001b[38;5;28;43mself\u001b[39;49m\u001b[43m)\u001b[49m\u001b[43m(\u001b[49m\u001b[38;5;241;43m*\u001b[39;49m\u001b[43margs\u001b[49m\u001b[43m,\u001b[49m\u001b[43m \u001b[49m\u001b[38;5;241;43m*\u001b[39;49m\u001b[38;5;241;43m*\u001b[39;49m\u001b[43mkwargs\u001b[49m\u001b[43m)\u001b[49m\n",
      "File \u001b[0;32m~/Projects/credit_card_fraud/credit/lib/python3.9/site-packages/matplotlib/axis.py:1968\u001b[0m, in \u001b[0;36mAxis._set_ticklabels\u001b[0;34m(self, labels, fontdict, minor, **kwargs)\u001b[0m\n\u001b[1;32m   1966\u001b[0m \u001b[38;5;28;01mif\u001b[39;00m fontdict \u001b[38;5;129;01mis\u001b[39;00m \u001b[38;5;129;01mnot\u001b[39;00m \u001b[38;5;28;01mNone\u001b[39;00m:\n\u001b[1;32m   1967\u001b[0m     kwargs\u001b[38;5;241m.\u001b[39mupdate(fontdict)\n\u001b[0;32m-> 1968\u001b[0m \u001b[38;5;28;01mreturn\u001b[39;00m \u001b[38;5;28;43mself\u001b[39;49m\u001b[38;5;241;43m.\u001b[39;49m\u001b[43mset_ticklabels\u001b[49m\u001b[43m(\u001b[49m\u001b[43mlabels\u001b[49m\u001b[43m,\u001b[49m\u001b[43m \u001b[49m\u001b[43mminor\u001b[49m\u001b[38;5;241;43m=\u001b[39;49m\u001b[43mminor\u001b[49m\u001b[43m,\u001b[49m\u001b[43m \u001b[49m\u001b[38;5;241;43m*\u001b[39;49m\u001b[38;5;241;43m*\u001b[39;49m\u001b[43mkwargs\u001b[49m\u001b[43m)\u001b[49m\n",
      "File \u001b[0;32m~/Projects/credit_card_fraud/credit/lib/python3.9/site-packages/matplotlib/axis.py:1890\u001b[0m, in \u001b[0;36mAxis.set_ticklabels\u001b[0;34m(self, ticklabels, minor, **kwargs)\u001b[0m\n\u001b[1;32m   1886\u001b[0m \u001b[38;5;28;01mif\u001b[39;00m \u001b[38;5;28misinstance\u001b[39m(locator, mticker\u001b[38;5;241m.\u001b[39mFixedLocator):\n\u001b[1;32m   1887\u001b[0m     \u001b[38;5;66;03m# Passing [] as a list of ticklabels is often used as a way to\u001b[39;00m\n\u001b[1;32m   1888\u001b[0m     \u001b[38;5;66;03m# remove all tick labels, so only error for > 0 ticklabels\u001b[39;00m\n\u001b[1;32m   1889\u001b[0m     \u001b[38;5;28;01mif\u001b[39;00m \u001b[38;5;28mlen\u001b[39m(locator\u001b[38;5;241m.\u001b[39mlocs) \u001b[38;5;241m!=\u001b[39m \u001b[38;5;28mlen\u001b[39m(ticklabels) \u001b[38;5;129;01mand\u001b[39;00m \u001b[38;5;28mlen\u001b[39m(ticklabels) \u001b[38;5;241m!=\u001b[39m \u001b[38;5;241m0\u001b[39m:\n\u001b[0;32m-> 1890\u001b[0m         \u001b[38;5;28;01mraise\u001b[39;00m \u001b[38;5;167;01mValueError\u001b[39;00m(\n\u001b[1;32m   1891\u001b[0m             \u001b[38;5;124m\"\u001b[39m\u001b[38;5;124mThe number of FixedLocator locations\u001b[39m\u001b[38;5;124m\"\u001b[39m\n\u001b[1;32m   1892\u001b[0m             \u001b[38;5;124mf\u001b[39m\u001b[38;5;124m\"\u001b[39m\u001b[38;5;124m (\u001b[39m\u001b[38;5;132;01m{\u001b[39;00m\u001b[38;5;28mlen\u001b[39m(locator\u001b[38;5;241m.\u001b[39mlocs)\u001b[38;5;132;01m}\u001b[39;00m\u001b[38;5;124m), usually from a call to\u001b[39m\u001b[38;5;124m\"\u001b[39m\n\u001b[1;32m   1893\u001b[0m             \u001b[38;5;124m\"\u001b[39m\u001b[38;5;124m set_ticks, does not match\u001b[39m\u001b[38;5;124m\"\u001b[39m\n\u001b[1;32m   1894\u001b[0m             \u001b[38;5;124mf\u001b[39m\u001b[38;5;124m\"\u001b[39m\u001b[38;5;124m the number of ticklabels (\u001b[39m\u001b[38;5;132;01m{\u001b[39;00m\u001b[38;5;28mlen\u001b[39m(ticklabels)\u001b[38;5;132;01m}\u001b[39;00m\u001b[38;5;124m).\u001b[39m\u001b[38;5;124m\"\u001b[39m)\n\u001b[1;32m   1895\u001b[0m     tickd \u001b[38;5;241m=\u001b[39m {loc: lab \u001b[38;5;28;01mfor\u001b[39;00m loc, lab \u001b[38;5;129;01min\u001b[39;00m \u001b[38;5;28mzip\u001b[39m(locator\u001b[38;5;241m.\u001b[39mlocs, ticklabels)}\n\u001b[1;32m   1896\u001b[0m     func \u001b[38;5;241m=\u001b[39m functools\u001b[38;5;241m.\u001b[39mpartial(\u001b[38;5;28mself\u001b[39m\u001b[38;5;241m.\u001b[39m_format_with_dict, tickd)\n",
      "\u001b[0;31mValueError\u001b[0m: The number of FixedLocator locations (1), usually from a call to set_ticks, does not match the number of ticklabels (2)."
     ]
    },
    {
     "data": {
      "image/png": "[encoded data removed]",
      "text/plain": [
       "<Figure size 640x480 with 1 Axes>"
      ]
     },
     "metadata": {},
     "output_type": "display_data"
    }
   ],
   "source": [
    "# plot the no of 1's and 0's\n",
    "g = sns.countplot(data['Class'])\n",
    "g.set_xticklabels(['Not Fraud', 'Fraud'])\n",
    "plt.show()"
   ]
  },
  {
   "cell_type": "code",
   "execution_count": null,
   "metadata": {},
   "outputs": [],
   "source": [
    "# check for null values\n",
    "data.isnull().sum()"
   ]
  },
  {
   "cell_type": "code",
   "execution_count": null,
   "metadata": {},
   "outputs": [],
   "source": [
    "plt.figure(figsize=(20,20))\n",
    "sns.heatmap(data.corr(), annot=True)\n",
    "plt.show()"
   ]
  },
  {
   "cell_type": "markdown",
   "metadata": {},
   "source": [
    "## Respose and Target variable"
   ]
  },
  {
   "cell_type": "code",
   "execution_count": 83,
   "metadata": {},
   "outputs": [
    {
     "data": {
      "text/plain": [
       "(492, 9000)"
      ]
     },
     "execution_count": 83,
     "metadata": {},
     "output_type": "execute_result"
    }
   ],
   "source": [
    "x = data.iloc[:, :-1]\n",
    "y = data.iloc[:, -1]\n",
    "\n",
    "# check length of 1's and 0's\n",
    "one = np.where(y==1)\n",
    "zero = np.where(y==0)\n",
    "len(one[0]), len(zero[0])"
   ]
  },
  {
   "cell_type": "markdown",
   "metadata": {},
   "source": [
    "## Train test split"
   ]
  },
  {
   "cell_type": "code",
   "execution_count": 84,
   "metadata": {},
   "outputs": [],
   "source": [
    "x_train, x_test, y_train, y_test = train_test_split(x, y, test_size=0.2, random_state=42)"
   ]
  },
  {
   "cell_type": "markdown",
   "metadata": {},
   "source": [
    "## Fit the model uing Logitic Regression"
   ]
  },
  {
   "cell_type": "code",
   "execution_count": 85,
   "metadata": {},
   "outputs": [
    {
     "name": "stderr",
     "output_type": "stream",
     "text": [
      "/Users/admin/Projects/credit_card_fraud/credit/lib/python3.9/site-packages/sklearn/linear_model/_logistic.py:444: ConvergenceWarning: lbfgs failed to converge (status=1):\n",
      "STOP: TOTAL NO. of ITERATIONS REACHED LIMIT.\n",
      "\n",
      "Increase the number of iterations (max_iter) or scale the data as shown in:\n",
      "    https://scikit-learn.org/stable/modules/preprocessing.html\n",
      "Please also refer to the documentation for alternative solver options:\n",
      "    https://scikit-learn.org/stable/modules/linear_model.html#logistic-regression\n",
      "  n_iter_i = _check_optimize_result(\n"
     ]
    }
   ],
   "source": [
    "# create the object\n",
    "model =  LogisticRegression()\n",
    "\n",
    "model.fit(x, y)\n",
    "\n",
    "y_predict = model.predict(x)"
   ]
  },
  {
   "cell_type": "code",
   "execution_count": 86,
   "metadata": {},
   "outputs": [
    {
     "data": {
      "text/plain": [
       "1.0"
      ]
     },
     "execution_count": 86,
     "metadata": {},
     "output_type": "execute_result"
    }
   ],
   "source": [
    "accuracy_score(y_predict, y)"
   ]
  },
  {
   "cell_type": "code",
   "execution_count": 87,
   "metadata": {},
   "outputs": [
    {
     "data": {
      "text/plain": [
       "array([0, 1])"
      ]
     },
     "execution_count": 87,
     "metadata": {},
     "output_type": "execute_result"
    }
   ],
   "source": [
    "np.unique(y_predict)"
   ]
  },
  {
   "cell_type": "markdown",
   "metadata": {},
   "source": [
    "## The matrix trap"
   ]
  },
  {
   "cell_type": "code",
   "execution_count": 88,
   "metadata": {},
   "outputs": [
    {
     "name": "stdout",
     "output_type": "stream",
     "text": [
      "Accuracy score is: 1.0\n",
      "Roc auc scote: 1.0\n",
      "F1 core: 1.0\n"
     ]
    }
   ],
   "source": [
    "# import linrary\n",
    "from xgboost import XGBClassifier\n",
    "\n",
    "xgb_model = XGBClassifier().fit(x_train, y_train)\n",
    "\n",
    "# predict\n",
    "xgb_y_predict = xgb_model.predict(x_test)\n",
    "\n",
    "# accuracy score\n",
    "xgb_score = accuracy_score(xgb_y_predict, y_test)\n",
    "\n",
    "print('Accuracy score is:', xgb_score)\n",
    "print('Roc auc scote:', roc_auc_score(xgb_y_predict, y_test))\n",
    "print('F1 core:',f1_score(xgb_y_predict, y_test))"
   ]
  },
  {
   "cell_type": "code",
   "execution_count": 89,
   "metadata": {},
   "outputs": [
    {
     "data": {
      "text/plain": [
       "array([[1800,    0],\n",
       "       [   0,   99]])"
      ]
     },
     "execution_count": 89,
     "metadata": {},
     "output_type": "execute_result"
    }
   ],
   "source": [
    "confusion_matrix(xgb_y_predict, y_test)"
   ]
  },
  {
   "cell_type": "markdown",
   "metadata": {},
   "source": [
    "##  Resampling Technique"
   ]
  },
  {
   "cell_type": "code",
   "execution_count": 90,
   "metadata": {},
   "outputs": [],
   "source": [
    "# class count\n",
    "class_count_0, class_count_1 = data['Class'].value_counts()\n",
    "\n",
    "# divie class\n",
    "class_0 = data[data['Class'] == 0]\n",
    "class_1 = data[data['Class'] == 1]"
   ]
  },
  {
   "cell_type": "code",
   "execution_count": 91,
   "metadata": {},
   "outputs": [
    {
     "name": "stdout",
     "output_type": "stream",
     "text": [
      "class 0: (9000, 34)\n",
      "\n",
      "class 1: (492, 34)\n"
     ]
    }
   ],
   "source": [
    "# print the shape of the class\n",
    "print('class 0:', class_0.shape)\n",
    "print('\\nclass 1:', class_1.shape)"
   ]
  },
  {
   "cell_type": "markdown",
   "metadata": {},
   "source": [
    "## 1. Random under sampling"
   ]
  },
  {
   "cell_type": "code",
   "execution_count": 92,
   "metadata": {},
   "outputs": [
    {
     "name": "stdout",
     "output_type": "stream",
     "text": [
      "total class of 1 and 0:\n",
      " 0    492\n",
      "1    492\n",
      "Name: Class, dtype: int64\n"
     ]
    },
    {
     "data": {
      "image/png": "[encoded data removed]",
      "text/plain": [
       "<Figure size 640x480 with 1 Axes>"
      ]
     },
     "metadata": {},
     "output_type": "display_data"
    }
   ],
   "source": [
    "class_0_under = class_0.sample(class_count_1)\n",
    "\n",
    "test_under = pd.concat([class_0_under, class_1], axis=0)\n",
    "\n",
    "print(\"total class of 1 and 0:\\n\",test_under['Class'].value_counts())\n",
    "\n",
    "test_under['Class'].value_counts().plot(kind='bar', title='Count (target)')\n",
    "plt.show()"
   ]
  },
  {
   "cell_type": "markdown",
   "metadata": {},
   "source": [
    "## 2. Random over sampling"
   ]
  },
  {
   "cell_type": "code",
   "execution_count": 93,
   "metadata": {},
   "outputs": [
    {
     "name": "stdout",
     "output_type": "stream",
     "text": [
      "class count of 1 and 0:\n",
      " 1    9000\n",
      "0    9000\n",
      "Name: Class, dtype: int64\n"
     ]
    },
    {
     "data": {
      "image/png": "[encoded data removed]",
      "text/plain": [
       "<Figure size 640x480 with 1 Axes>"
      ]
     },
     "metadata": {},
     "output_type": "display_data"
    }
   ],
   "source": [
    "class_1_over = class_1.sample(class_count_0, replace=True)\n",
    "\n",
    "test_under = pd.concat([class_1_over, class_0], axis=0)\n",
    "\n",
    "# print the number of class count\n",
    "print('class count of 1 and 0:\\n', test_under['Class'].value_counts())\n",
    "\n",
    "# plot the count\n",
    "test_under['Class'].value_counts().plot(kind='bar', title='Count (target)')\n",
    "plt.show()"
   ]
  },
  {
   "cell_type": "markdown",
   "metadata": {},
   "source": [
    "## Balance data with imbalance learn module"
   ]
  },
  {
   "cell_type": "code",
   "execution_count": 94,
   "metadata": {},
   "outputs": [],
   "source": [
    "# import library\n",
    "import sklearn\n",
    "import imblearn \n"
   ]
  },
  {
   "cell_type": "code",
   "execution_count": null,
   "metadata": {},
   "outputs": [],
   "source": []
  },
  {
   "cell_type": "code",
   "execution_count": null,
   "metadata": {},
   "outputs": [],
   "source": []
  },
  {
   "cell_type": "markdown",
   "metadata": {},
   "source": [
    "## 3. Random under-sampling with imblearn"
   ]
  },
  {
   "cell_type": "code",
   "execution_count": 95,
   "metadata": {},
   "outputs": [
    {
     "name": "stdout",
     "output_type": "stream",
     "text": [
      "original dataset shape: Counter({0: 9000, 1: 492})\n",
      "Resample dataset shape Counter({0: 492, 1: 492})\n"
     ]
    }
   ],
   "source": [
    "# import library\n",
    "from imblearn.under_sampling import RandomUnderSampler\n",
    "\n",
    "rus = RandomUnderSampler(random_state=42, replacement=True)\n",
    "\n",
    "# fit predictor and target varialbe\n",
    "x_rus, y_rus = rus.fit_resample(x, y)\n",
    "\n",
    "print('original dataset shape:', Counter(y))\n",
    "print('Resample dataset shape', Counter(y_rus))"
   ]
  },
  {
   "cell_type": "code",
   "execution_count": null,
   "metadata": {},
   "outputs": [],
   "source": []
  },
  {
   "cell_type": "markdown",
   "metadata": {},
   "source": [
    "## 4.Random over-sampling with imblearn"
   ]
  },
  {
   "cell_type": "code",
   "execution_count": 96,
   "metadata": {},
   "outputs": [
    {
     "name": "stdout",
     "output_type": "stream",
     "text": [
      "Original dataset shape Counter({0: 9000, 1: 492})\n",
      "Resample dataset shape Counter({1: 9000, 0: 9000})\n"
     ]
    }
   ],
   "source": [
    "# import library\n",
    "from imblearn.over_sampling import RandomOverSampler\n",
    "\n",
    "ros = RandomOverSampler(random_state=42)\n",
    "\n",
    "# fit predictor and target varaible\n",
    "x_ros, y_ros = ros.fit_resample(x, y)\n",
    "\n",
    "print('Original dataset shape', Counter(y))\n",
    "print('Resample dataset shape', Counter(y_ros))"
   ]
  },
  {
   "cell_type": "markdown",
   "metadata": {},
   "source": [
    "## 5. under-sampling Tomek links"
   ]
  },
  {
   "cell_type": "code",
   "execution_count": 97,
   "metadata": {},
   "outputs": [
    {
     "ename": "AttributeError",
     "evalue": "'TomekLinks' object has no attribute 'oversample'",
     "output_type": "error",
     "traceback": [
      "\u001b[0;31m---------------------------------------------------------------------------\u001b[0m",
      "\u001b[0;31mAttributeError\u001b[0m                            Traceback (most recent call last)",
      "Cell \u001b[0;32mIn [97], line 7\u001b[0m\n\u001b[1;32m      4\u001b[0m tl \u001b[38;5;241m=\u001b[39m TomekLinks(sampling_strategy\u001b[38;5;241m=\u001b[39m\u001b[38;5;124m'\u001b[39m\u001b[38;5;124mmajority\u001b[39m\u001b[38;5;124m'\u001b[39m)\n\u001b[1;32m      6\u001b[0m \u001b[38;5;66;03m# fit predictor and target variable\u001b[39;00m\n\u001b[0;32m----> 7\u001b[0m x_tl, y_tl \u001b[38;5;241m=\u001b[39m \u001b[43mtl\u001b[49m\u001b[38;5;241;43m.\u001b[39;49m\u001b[43moversample\u001b[49m\u001b[38;5;241m.\u001b[39mfit_resample(x,y)\n\u001b[1;32m     10\u001b[0m \u001b[38;5;28mprint\u001b[39m(\u001b[38;5;124m'\u001b[39m\u001b[38;5;124mOriginal dataset shape:\u001b[39m\u001b[38;5;124m'\u001b[39m, Counter(y))\n\u001b[1;32m     11\u001b[0m \u001b[38;5;28mprint\u001b[39m(\u001b[38;5;124m'\u001b[39m\u001b[38;5;124mResample dataset shape:\u001b[39m\u001b[38;5;124m'\u001b[39m, Counter(y_tl))\n",
      "\u001b[0;31mAttributeError\u001b[0m: 'TomekLinks' object has no attribute 'oversample'"
     ]
    }
   ],
   "source": [
    "# load library\n",
    "from imblearn.under_sampling import TomekLinks\n",
    "\n",
    "tl = TomekLinks(sampling_strategy='majority')\n",
    "\n",
    "# fit predictor and target variable\n",
    "x_tl, y_tl = tl.oversample.fit_resample(x,y)\n",
    "\n",
    "\n",
    "print('Original dataset shape:', Counter(y))\n",
    "print('Resample dataset shape:', Counter(y_tl))"
   ]
  },
  {
   "cell_type": "code",
   "execution_count": 98,
   "metadata": {},
   "outputs": [],
   "source": [
    "from imblearn.over_sampling import RandomOverSampler \n",
    "from imblearn.under_sampling import TomekLinks"
   ]
  },
  {
   "cell_type": "code",
   "execution_count": null,
   "metadata": {},
   "outputs": [],
   "source": []
  },
  {
   "cell_type": "code",
   "execution_count": 99,
   "metadata": {},
   "outputs": [],
   "source": [
    "from sklearn.datasets import make_classification"
   ]
  },
  {
   "cell_type": "markdown",
   "metadata": {},
   "source": [
    "## 6. Synthetic minority over-sampleing technique"
   ]
  },
  {
   "cell_type": "code",
   "execution_count": 100,
   "metadata": {},
   "outputs": [
    {
     "ename": "AttributeError",
     "evalue": "'SMOTE' object has no attribute 'fit_sample'",
     "output_type": "error",
     "traceback": [
      "\u001b[0;31m---------------------------------------------------------------------------\u001b[0m",
      "\u001b[0;31mAttributeError\u001b[0m                            Traceback (most recent call last)",
      "Cell \u001b[0;32mIn [100], line 7\u001b[0m\n\u001b[1;32m      4\u001b[0m smote \u001b[38;5;241m=\u001b[39m SMOTE()\n\u001b[1;32m      6\u001b[0m \u001b[38;5;66;03m# fit target and predictor variable\u001b[39;00m\n\u001b[0;32m----> 7\u001b[0m x_smote , y_smote \u001b[38;5;241m=\u001b[39m \u001b[43msmote\u001b[49m\u001b[38;5;241;43m.\u001b[39;49m\u001b[43mfit_sample\u001b[49m(x, y)\n\u001b[1;32m      9\u001b[0m \u001b[38;5;28mprint\u001b[39m(\u001b[38;5;124m'\u001b[39m\u001b[38;5;124mOrigianl dataset shape:\u001b[39m\u001b[38;5;124m'\u001b[39m, Counter(y))\n\u001b[1;32m     10\u001b[0m \u001b[38;5;28mprint\u001b[39m(\u001b[38;5;124m'\u001b[39m\u001b[38;5;124mResampple dataset shape:\u001b[39m\u001b[38;5;124m'\u001b[39m, Counter(y_smote))\n",
      "\u001b[0;31mAttributeError\u001b[0m: 'SMOTE' object has no attribute 'fit_sample'"
     ]
    }
   ],
   "source": [
    "# load library\n",
    "from imblearn.over_sampling import SMOTE\n",
    "\n",
    "smote = SMOTE()\n",
    "\n",
    "# fit target and predictor variable\n",
    "x_smote , y_smote = smote.fit_sample(x, y)\n",
    "\n",
    "print('Origianl dataset shape:', Counter(y))\n",
    "print('Resampple dataset shape:', Counter(y_smote))"
   ]
  },
  {
   "cell_type": "markdown",
   "metadata": {},
   "source": [
    "## 7. NearMiss"
   ]
  },
  {
   "cell_type": "code",
   "execution_count": 101,
   "metadata": {},
   "outputs": [
    {
     "name": "stdout",
     "output_type": "stream",
     "text": [
      "Original dataset shape: Counter({0: 9000, 1: 492})\n",
      "Resample dataset shape: Counter({0: 492, 1: 492})\n"
     ]
    }
   ],
   "source": [
    "from imblearn.under_sampling import NearMiss\n",
    "\n",
    "nm = NearMiss()\n",
    "\n",
    "x_nm, y_nm = nm.fit_resample(x, y)\n",
    "\n",
    "print('Original dataset shape:', Counter(y))\n",
    "print('Resample dataset shape:', Counter(y_nm))"
   ]
  },
  {
   "cell_type": "markdown",
   "metadata": {},
   "source": [
    "## 8. Change the performance metric"
   ]
  },
  {
   "cell_type": "code",
   "execution_count": 102,
   "metadata": {},
   "outputs": [
    {
     "name": "stdout",
     "output_type": "stream",
     "text": [
      "ROCAUC score: 1.0\n",
      "Accuracy score: 1.0\n",
      "F1 score: 1.0\n"
     ]
    }
   ],
   "source": [
    "x_train1, x_test1, y_train1, y_test1 = train_test_split(x_nm, y_nm, test_size =0.20, random_state=42)\n",
    "\n",
    "m = XGBClassifier()\n",
    "m.fit(x_train1, y_train1)\n",
    "predict_y = m.predict(x_test1)\n",
    "\n",
    "print('ROCAUC score:',roc_auc_score(y_test1, predict_y))\n",
    "print('Accuracy score:',accuracy_score(y_test1, predict_y))\n",
    "print('F1 score:',f1_score(y_test1, predict_y))"
   ]
  },
  {
   "cell_type": "markdown",
   "metadata": {},
   "source": [
    "## 9. penalize algorithm (cost-sensitive training)"
   ]
  },
  {
   "cell_type": "code",
   "execution_count": 103,
   "metadata": {},
   "outputs": [],
   "source": [
    "# load library\n",
    "from sklearn.svm import SVC\n",
    "\n",
    "# we can add class_weight='balanced' to add panalize mistake\n",
    "svc_model = SVC(class_weight='balanced', probability=True)\n",
    "\n",
    "svc_model.fit(x_train, y_train)\n",
    "\n",
    "svc_predict = svc_model.predict(x_test)"
   ]
  },
  {
   "cell_type": "code",
   "execution_count": 104,
   "metadata": {},
   "outputs": [
    {
     "name": "stdout",
     "output_type": "stream",
     "text": [
      "ROCAUC score: 0.9452777777777778\n",
      "Accuracy score: 0.8962611901000527\n",
      "F1 score: 0.5012658227848101\n"
     ]
    }
   ],
   "source": [
    "# check performance\n",
    "\n",
    "print('ROCAUC score:',roc_auc_score(y_test, svc_predict))\n",
    "print('Accuracy score:',accuracy_score(y_test, svc_predict))\n",
    "print('F1 score:',f1_score(y_test, svc_predict))"
   ]
  },
  {
   "cell_type": "markdown",
   "metadata": {},
   "source": [
    "## 10. Tree based algorithm"
   ]
  },
  {
   "cell_type": "code",
   "execution_count": 105,
   "metadata": {},
   "outputs": [],
   "source": [
    "# load library\n",
    "from sklearn.ensemble import RandomForestClassifier\n",
    "\n",
    "rfc = RandomForestClassifier()\n",
    "\n",
    "# fit the predictor and target\n",
    "rfc.fit(x_train, y_train)\n",
    "\n",
    "# predict\n",
    "rfc_predict = rfc.predict(x_test)"
   ]
  },
  {
   "cell_type": "code",
   "execution_count": 106,
   "metadata": {},
   "outputs": [
    {
     "name": "stdout",
     "output_type": "stream",
     "text": [
      "ROCAUC score: 1.0\n",
      "Accuracy score: 1.0\n",
      "F1 score: 1.0\n"
     ]
    }
   ],
   "source": [
    "# check performance\n",
    "\n",
    "print('ROCAUC score:',roc_auc_score(y_test, rfc_predict))\n",
    "print('Accuracy score:',accuracy_score(y_test, rfc_predict))\n",
    "print('F1 score:',f1_score(y_test, rfc_predict))"
   ]
  },
  {
   "cell_type": "code",
   "execution_count": 110,
   "metadata": {},
   "outputs": [
    {
     "data": {
      "text/plain": [
       "array([0, 0, 0, ..., 0, 0, 0])"
      ]
     },
     "execution_count": 110,
     "metadata": {},
     "output_type": "execute_result"
    }
   ],
   "source": [
    "rfc_predict"
   ]
  },
  {
   "cell_type": "code",
   "execution_count": 108,
   "metadata": {},
   "outputs": [
    {
     "data": {
      "text/plain": [
       "4716    0\n",
       "4884    0\n",
       "5950    0\n",
       "8523    0\n",
       "3983    0\n",
       "       ..\n",
       "7363    0\n",
       "9300    0\n",
       "1502    0\n",
       "503     0\n",
       "3735    0\n",
       "Name: Class, Length: 7593, dtype: int64"
      ]
     },
     "execution_count": 108,
     "metadata": {},
     "output_type": "execute_result"
    }
   ],
   "source": [
    "y_train"
   ]
  },
  {
   "cell_type": "code",
   "execution_count": 109,
   "metadata": {},
   "outputs": [
    {
     "data": {
      "text/html": [
       "<div>\n",
       "<style scoped>\n",
       "    .dataframe tbody tr th:only-of-type {\n",
       "        vertical-align: middle;\n",
       "    }\n",
       "\n",
       "    .dataframe tbody tr th {\n",
       "        vertical-align: top;\n",
       "    }\n",
       "\n",
       "    .dataframe thead th {\n",
       "        text-align: right;\n",
       "    }\n",
       "</style>\n",
       "<table border=\"1\" class=\"dataframe\">\n",
       "  <thead>\n",
       "    <tr style=\"text-align: right;\">\n",
       "      <th></th>\n",
       "      <th>Unnamed: 0.2</th>\n",
       "      <th>Unnamed: 0.1</th>\n",
       "      <th>Unnamed: 0</th>\n",
       "      <th>Time</th>\n",
       "      <th>V1</th>\n",
       "      <th>V2</th>\n",
       "      <th>V3</th>\n",
       "      <th>V4</th>\n",
       "      <th>V5</th>\n",
       "      <th>V6</th>\n",
       "      <th>...</th>\n",
       "      <th>V20</th>\n",
       "      <th>V21</th>\n",
       "      <th>V22</th>\n",
       "      <th>V23</th>\n",
       "      <th>V24</th>\n",
       "      <th>V25</th>\n",
       "      <th>V26</th>\n",
       "      <th>V27</th>\n",
       "      <th>V28</th>\n",
       "      <th>Amount</th>\n",
       "    </tr>\n",
       "  </thead>\n",
       "  <tbody>\n",
       "    <tr>\n",
       "      <th>8748</th>\n",
       "      <td>5695</td>\n",
       "      <td>1433</td>\n",
       "      <td>126952</td>\n",
       "      <td>78158.0</td>\n",
       "      <td>1.160327</td>\n",
       "      <td>-1.416541</td>\n",
       "      <td>0.978754</td>\n",
       "      <td>-0.330249</td>\n",
       "      <td>-1.638599</td>\n",
       "      <td>0.452144</td>\n",
       "      <td>...</td>\n",
       "      <td>0.226366</td>\n",
       "      <td>0.090156</td>\n",
       "      <td>0.248254</td>\n",
       "      <td>-0.246138</td>\n",
       "      <td>-0.411164</td>\n",
       "      <td>0.478695</td>\n",
       "      <td>-0.075079</td>\n",
       "      <td>0.044783</td>\n",
       "      <td>0.035579</td>\n",
       "      <td>120.00</td>\n",
       "    </tr>\n",
       "    <tr>\n",
       "      <th>7970</th>\n",
       "      <td>2739</td>\n",
       "      <td>9347</td>\n",
       "      <td>26933</td>\n",
       "      <td>34314.0</td>\n",
       "      <td>-1.623773</td>\n",
       "      <td>-0.800288</td>\n",
       "      <td>2.632139</td>\n",
       "      <td>1.224768</td>\n",
       "      <td>0.148780</td>\n",
       "      <td>0.141212</td>\n",
       "      <td>...</td>\n",
       "      <td>0.464054</td>\n",
       "      <td>0.413708</td>\n",
       "      <td>0.749614</td>\n",
       "      <td>0.160144</td>\n",
       "      <td>0.203321</td>\n",
       "      <td>0.253061</td>\n",
       "      <td>-0.124117</td>\n",
       "      <td>0.052879</td>\n",
       "      <td>0.105279</td>\n",
       "      <td>118.70</td>\n",
       "    </tr>\n",
       "    <tr>\n",
       "      <th>3976</th>\n",
       "      <td>7845</td>\n",
       "      <td>6304</td>\n",
       "      <td>103854</td>\n",
       "      <td>68822.0</td>\n",
       "      <td>-0.310685</td>\n",
       "      <td>1.146024</td>\n",
       "      <td>0.673147</td>\n",
       "      <td>1.017791</td>\n",
       "      <td>-0.362576</td>\n",
       "      <td>-0.821842</td>\n",
       "      <td>...</td>\n",
       "      <td>-0.112985</td>\n",
       "      <td>0.182358</td>\n",
       "      <td>0.390255</td>\n",
       "      <td>-0.000901</td>\n",
       "      <td>0.378285</td>\n",
       "      <td>-0.136017</td>\n",
       "      <td>-0.327143</td>\n",
       "      <td>-0.053600</td>\n",
       "      <td>-0.017405</td>\n",
       "      <td>31.24</td>\n",
       "    </tr>\n",
       "    <tr>\n",
       "      <th>8228</th>\n",
       "      <td>3533</td>\n",
       "      <td>1298</td>\n",
       "      <td>14079</td>\n",
       "      <td>25057.0</td>\n",
       "      <td>1.222646</td>\n",
       "      <td>0.548599</td>\n",
       "      <td>-0.005054</td>\n",
       "      <td>1.266393</td>\n",
       "      <td>0.297965</td>\n",
       "      <td>-0.672256</td>\n",
       "      <td>...</td>\n",
       "      <td>-0.209527</td>\n",
       "      <td>-0.114414</td>\n",
       "      <td>-0.001864</td>\n",
       "      <td>-0.111510</td>\n",
       "      <td>0.036830</td>\n",
       "      <td>0.756945</td>\n",
       "      <td>-0.306428</td>\n",
       "      <td>-0.019001</td>\n",
       "      <td>0.002613</td>\n",
       "      <td>8.99</td>\n",
       "    </tr>\n",
       "    <tr>\n",
       "      <th>5508</th>\n",
       "      <td>3364</td>\n",
       "      <td>5424</td>\n",
       "      <td>268423</td>\n",
       "      <td>163199.0</td>\n",
       "      <td>-0.501852</td>\n",
       "      <td>1.130585</td>\n",
       "      <td>-0.691944</td>\n",
       "      <td>-0.806746</td>\n",
       "      <td>0.834618</td>\n",
       "      <td>-0.284606</td>\n",
       "      <td>...</td>\n",
       "      <td>0.131179</td>\n",
       "      <td>0.324635</td>\n",
       "      <td>1.173374</td>\n",
       "      <td>-0.060187</td>\n",
       "      <td>0.274649</td>\n",
       "      <td>-0.719956</td>\n",
       "      <td>-0.240001</td>\n",
       "      <td>0.582765</td>\n",
       "      <td>0.418206</td>\n",
       "      <td>0.89</td>\n",
       "    </tr>\n",
       "    <tr>\n",
       "      <th>...</th>\n",
       "      <td>...</td>\n",
       "      <td>...</td>\n",
       "      <td>...</td>\n",
       "      <td>...</td>\n",
       "      <td>...</td>\n",
       "      <td>...</td>\n",
       "      <td>...</td>\n",
       "      <td>...</td>\n",
       "      <td>...</td>\n",
       "      <td>...</td>\n",
       "      <td>...</td>\n",
       "      <td>...</td>\n",
       "      <td>...</td>\n",
       "      <td>...</td>\n",
       "      <td>...</td>\n",
       "      <td>...</td>\n",
       "      <td>...</td>\n",
       "      <td>...</td>\n",
       "      <td>...</td>\n",
       "      <td>...</td>\n",
       "      <td>...</td>\n",
       "    </tr>\n",
       "    <tr>\n",
       "      <th>6689</th>\n",
       "      <td>6556</td>\n",
       "      <td>6712</td>\n",
       "      <td>99755</td>\n",
       "      <td>67266.0</td>\n",
       "      <td>1.261295</td>\n",
       "      <td>-1.486642</td>\n",
       "      <td>0.443586</td>\n",
       "      <td>-1.492442</td>\n",
       "      <td>-1.522909</td>\n",
       "      <td>0.068231</td>\n",
       "      <td>...</td>\n",
       "      <td>-0.235136</td>\n",
       "      <td>-0.271468</td>\n",
       "      <td>-0.705623</td>\n",
       "      <td>0.091964</td>\n",
       "      <td>-0.386851</td>\n",
       "      <td>-0.007802</td>\n",
       "      <td>-0.382938</td>\n",
       "      <td>0.028927</td>\n",
       "      <td>0.025985</td>\n",
       "      <td>104.86</td>\n",
       "    </tr>\n",
       "    <tr>\n",
       "      <th>949</th>\n",
       "      <td>6323</td>\n",
       "      <td>499</td>\n",
       "      <td>130591</td>\n",
       "      <td>79387.0</td>\n",
       "      <td>1.235082</td>\n",
       "      <td>0.170224</td>\n",
       "      <td>0.390384</td>\n",
       "      <td>0.432030</td>\n",
       "      <td>-0.280641</td>\n",
       "      <td>-0.483902</td>\n",
       "      <td>...</td>\n",
       "      <td>-0.076749</td>\n",
       "      <td>-0.227531</td>\n",
       "      <td>-0.707250</td>\n",
       "      <td>0.083207</td>\n",
       "      <td>-0.006427</td>\n",
       "      <td>0.224393</td>\n",
       "      <td>0.097698</td>\n",
       "      <td>-0.034901</td>\n",
       "      <td>0.005635</td>\n",
       "      <td>4.49</td>\n",
       "    </tr>\n",
       "    <tr>\n",
       "      <th>5888</th>\n",
       "      <td>7787</td>\n",
       "      <td>6775</td>\n",
       "      <td>238973</td>\n",
       "      <td>149900.0</td>\n",
       "      <td>-0.860790</td>\n",
       "      <td>-0.124587</td>\n",
       "      <td>0.909796</td>\n",
       "      <td>-1.252155</td>\n",
       "      <td>-0.773825</td>\n",
       "      <td>-0.550487</td>\n",
       "      <td>...</td>\n",
       "      <td>-0.622380</td>\n",
       "      <td>-0.011356</td>\n",
       "      <td>0.375244</td>\n",
       "      <td>-0.124640</td>\n",
       "      <td>-0.069581</td>\n",
       "      <td>-0.698924</td>\n",
       "      <td>0.634994</td>\n",
       "      <td>-0.048642</td>\n",
       "      <td>0.067132</td>\n",
       "      <td>31.49</td>\n",
       "    </tr>\n",
       "    <tr>\n",
       "      <th>6769</th>\n",
       "      <td>2561</td>\n",
       "      <td>694</td>\n",
       "      <td>168820</td>\n",
       "      <td>119400.0</td>\n",
       "      <td>-1.367543</td>\n",
       "      <td>-0.567691</td>\n",
       "      <td>1.977327</td>\n",
       "      <td>-1.118169</td>\n",
       "      <td>0.800083</td>\n",
       "      <td>-0.530428</td>\n",
       "      <td>...</td>\n",
       "      <td>0.493280</td>\n",
       "      <td>0.012114</td>\n",
       "      <td>-0.182791</td>\n",
       "      <td>-0.077342</td>\n",
       "      <td>-0.391381</td>\n",
       "      <td>0.113875</td>\n",
       "      <td>1.176804</td>\n",
       "      <td>-0.243785</td>\n",
       "      <td>-0.134437</td>\n",
       "      <td>65.70</td>\n",
       "    </tr>\n",
       "    <tr>\n",
       "      <th>7401</th>\n",
       "      <td>8074</td>\n",
       "      <td>1303</td>\n",
       "      <td>23514</td>\n",
       "      <td>32797.0</td>\n",
       "      <td>-0.707993</td>\n",
       "      <td>0.882985</td>\n",
       "      <td>1.686450</td>\n",
       "      <td>0.248583</td>\n",
       "      <td>0.145034</td>\n",
       "      <td>-0.526374</td>\n",
       "      <td>...</td>\n",
       "      <td>-0.013010</td>\n",
       "      <td>-0.262474</td>\n",
       "      <td>-0.358913</td>\n",
       "      <td>-0.069223</td>\n",
       "      <td>0.379675</td>\n",
       "      <td>0.041736</td>\n",
       "      <td>-0.756190</td>\n",
       "      <td>-0.094876</td>\n",
       "      <td>-0.109343</td>\n",
       "      <td>29.00</td>\n",
       "    </tr>\n",
       "  </tbody>\n",
       "</table>\n",
       "<p>1899 rows × 33 columns</p>\n",
       "</div>"
      ],
      "text/plain": [
       "      Unnamed: 0.2  Unnamed: 0.1  Unnamed: 0      Time        V1        V2  \\\n",
       "8748          5695          1433      126952   78158.0  1.160327 -1.416541   \n",
       "7970          2739          9347       26933   34314.0 -1.623773 -0.800288   \n",
       "3976          7845          6304      103854   68822.0 -0.310685  1.146024   \n",
       "8228          3533          1298       14079   25057.0  1.222646  0.548599   \n",
       "5508          3364          5424      268423  163199.0 -0.501852  1.130585   \n",
       "...            ...           ...         ...       ...       ...       ...   \n",
       "6689          6556          6712       99755   67266.0  1.261295 -1.486642   \n",
       "949           6323           499      130591   79387.0  1.235082  0.170224   \n",
       "5888          7787          6775      238973  149900.0 -0.860790 -0.124587   \n",
       "6769          2561           694      168820  119400.0 -1.367543 -0.567691   \n",
       "7401          8074          1303       23514   32797.0 -0.707993  0.882985   \n",
       "\n",
       "            V3        V4        V5        V6  ...       V20       V21  \\\n",
       "8748  0.978754 -0.330249 -1.638599  0.452144  ...  0.226366  0.090156   \n",
       "7970  2.632139  1.224768  0.148780  0.141212  ...  0.464054  0.413708   \n",
       "3976  0.673147  1.017791 -0.362576 -0.821842  ... -0.112985  0.182358   \n",
       "8228 -0.005054  1.266393  0.297965 -0.672256  ... -0.209527 -0.114414   \n",
       "5508 -0.691944 -0.806746  0.834618 -0.284606  ...  0.131179  0.324635   \n",
       "...        ...       ...       ...       ...  ...       ...       ...   \n",
       "6689  0.443586 -1.492442 -1.522909  0.068231  ... -0.235136 -0.271468   \n",
       "949   0.390384  0.432030 -0.280641 -0.483902  ... -0.076749 -0.227531   \n",
       "5888  0.909796 -1.252155 -0.773825 -0.550487  ... -0.622380 -0.011356   \n",
       "6769  1.977327 -1.118169  0.800083 -0.530428  ...  0.493280  0.012114   \n",
       "7401  1.686450  0.248583  0.145034 -0.526374  ... -0.013010 -0.262474   \n",
       "\n",
       "           V22       V23       V24       V25       V26       V27       V28  \\\n",
       "8748  0.248254 -0.246138 -0.411164  0.478695 -0.075079  0.044783  0.035579   \n",
       "7970  0.749614  0.160144  0.203321  0.253061 -0.124117  0.052879  0.105279   \n",
       "3976  0.390255 -0.000901  0.378285 -0.136017 -0.327143 -0.053600 -0.017405   \n",
       "8228 -0.001864 -0.111510  0.036830  0.756945 -0.306428 -0.019001  0.002613   \n",
       "5508  1.173374 -0.060187  0.274649 -0.719956 -0.240001  0.582765  0.418206   \n",
       "...        ...       ...       ...       ...       ...       ...       ...   \n",
       "6689 -0.705623  0.091964 -0.386851 -0.007802 -0.382938  0.028927  0.025985   \n",
       "949  -0.707250  0.083207 -0.006427  0.224393  0.097698 -0.034901  0.005635   \n",
       "5888  0.375244 -0.124640 -0.069581 -0.698924  0.634994 -0.048642  0.067132   \n",
       "6769 -0.182791 -0.077342 -0.391381  0.113875  1.176804 -0.243785 -0.134437   \n",
       "7401 -0.358913 -0.069223  0.379675  0.041736 -0.756190 -0.094876 -0.109343   \n",
       "\n",
       "      Amount  \n",
       "8748  120.00  \n",
       "7970  118.70  \n",
       "3976   31.24  \n",
       "8228    8.99  \n",
       "5508    0.89  \n",
       "...      ...  \n",
       "6689  104.86  \n",
       "949     4.49  \n",
       "5888   31.49  \n",
       "6769   65.70  \n",
       "7401   29.00  \n",
       "\n",
       "[1899 rows x 33 columns]"
      ]
     },
     "execution_count": 109,
     "metadata": {},
     "output_type": "execute_result"
    }
   ],
   "source": [
    "x_test"
   ]
  },
  {
   "cell_type": "code",
   "execution_count": 37,
   "metadata": {},
   "outputs": [],
   "source": [
    "import joblib "
   ]
  },
  {
   "cell_type": "code",
   "execution_count": 38,
   "metadata": {},
   "outputs": [
    {
     "data": {
      "text/plain": [
       "['randomForestClassifier']"
      ]
     },
     "execution_count": 38,
     "metadata": {},
     "output_type": "execute_result"
    }
   ],
   "source": [
    "joblib.dump(rfc, \"randomForestClassifier\")"
   ]
  },
  {
   "cell_type": "code",
   "execution_count": 111,
   "metadata": {},
   "outputs": [
    {
     "data": {
      "text/html": [
       "<div>\n",
       "<style scoped>\n",
       "    .dataframe tbody tr th:only-of-type {\n",
       "        vertical-align: middle;\n",
       "    }\n",
       "\n",
       "    .dataframe tbody tr th {\n",
       "        vertical-align: top;\n",
       "    }\n",
       "\n",
       "    .dataframe thead th {\n",
       "        text-align: right;\n",
       "    }\n",
       "</style>\n",
       "<table border=\"1\" class=\"dataframe\">\n",
       "  <thead>\n",
       "    <tr style=\"text-align: right;\">\n",
       "      <th></th>\n",
       "      <th>Unnamed: 0.2</th>\n",
       "      <th>Unnamed: 0.1</th>\n",
       "      <th>Unnamed: 0</th>\n",
       "      <th>Time</th>\n",
       "      <th>V1</th>\n",
       "      <th>V2</th>\n",
       "      <th>V3</th>\n",
       "      <th>V4</th>\n",
       "      <th>V5</th>\n",
       "      <th>V6</th>\n",
       "      <th>...</th>\n",
       "      <th>V20</th>\n",
       "      <th>V21</th>\n",
       "      <th>V22</th>\n",
       "      <th>V23</th>\n",
       "      <th>V24</th>\n",
       "      <th>V25</th>\n",
       "      <th>V26</th>\n",
       "      <th>V27</th>\n",
       "      <th>V28</th>\n",
       "      <th>Amount</th>\n",
       "    </tr>\n",
       "  </thead>\n",
       "  <tbody>\n",
       "    <tr>\n",
       "      <th>8748</th>\n",
       "      <td>5695</td>\n",
       "      <td>1433</td>\n",
       "      <td>126952</td>\n",
       "      <td>78158.0</td>\n",
       "      <td>1.160327</td>\n",
       "      <td>-1.416541</td>\n",
       "      <td>0.978754</td>\n",
       "      <td>-0.330249</td>\n",
       "      <td>-1.638599</td>\n",
       "      <td>0.452144</td>\n",
       "      <td>...</td>\n",
       "      <td>0.226366</td>\n",
       "      <td>0.090156</td>\n",
       "      <td>0.248254</td>\n",
       "      <td>-0.246138</td>\n",
       "      <td>-0.411164</td>\n",
       "      <td>0.478695</td>\n",
       "      <td>-0.075079</td>\n",
       "      <td>0.044783</td>\n",
       "      <td>0.035579</td>\n",
       "      <td>120.00</td>\n",
       "    </tr>\n",
       "    <tr>\n",
       "      <th>7970</th>\n",
       "      <td>2739</td>\n",
       "      <td>9347</td>\n",
       "      <td>26933</td>\n",
       "      <td>34314.0</td>\n",
       "      <td>-1.623773</td>\n",
       "      <td>-0.800288</td>\n",
       "      <td>2.632139</td>\n",
       "      <td>1.224768</td>\n",
       "      <td>0.148780</td>\n",
       "      <td>0.141212</td>\n",
       "      <td>...</td>\n",
       "      <td>0.464054</td>\n",
       "      <td>0.413708</td>\n",
       "      <td>0.749614</td>\n",
       "      <td>0.160144</td>\n",
       "      <td>0.203321</td>\n",
       "      <td>0.253061</td>\n",
       "      <td>-0.124117</td>\n",
       "      <td>0.052879</td>\n",
       "      <td>0.105279</td>\n",
       "      <td>118.70</td>\n",
       "    </tr>\n",
       "    <tr>\n",
       "      <th>3976</th>\n",
       "      <td>7845</td>\n",
       "      <td>6304</td>\n",
       "      <td>103854</td>\n",
       "      <td>68822.0</td>\n",
       "      <td>-0.310685</td>\n",
       "      <td>1.146024</td>\n",
       "      <td>0.673147</td>\n",
       "      <td>1.017791</td>\n",
       "      <td>-0.362576</td>\n",
       "      <td>-0.821842</td>\n",
       "      <td>...</td>\n",
       "      <td>-0.112985</td>\n",
       "      <td>0.182358</td>\n",
       "      <td>0.390255</td>\n",
       "      <td>-0.000901</td>\n",
       "      <td>0.378285</td>\n",
       "      <td>-0.136017</td>\n",
       "      <td>-0.327143</td>\n",
       "      <td>-0.053600</td>\n",
       "      <td>-0.017405</td>\n",
       "      <td>31.24</td>\n",
       "    </tr>\n",
       "    <tr>\n",
       "      <th>8228</th>\n",
       "      <td>3533</td>\n",
       "      <td>1298</td>\n",
       "      <td>14079</td>\n",
       "      <td>25057.0</td>\n",
       "      <td>1.222646</td>\n",
       "      <td>0.548599</td>\n",
       "      <td>-0.005054</td>\n",
       "      <td>1.266393</td>\n",
       "      <td>0.297965</td>\n",
       "      <td>-0.672256</td>\n",
       "      <td>...</td>\n",
       "      <td>-0.209527</td>\n",
       "      <td>-0.114414</td>\n",
       "      <td>-0.001864</td>\n",
       "      <td>-0.111510</td>\n",
       "      <td>0.036830</td>\n",
       "      <td>0.756945</td>\n",
       "      <td>-0.306428</td>\n",
       "      <td>-0.019001</td>\n",
       "      <td>0.002613</td>\n",
       "      <td>8.99</td>\n",
       "    </tr>\n",
       "    <tr>\n",
       "      <th>5508</th>\n",
       "      <td>3364</td>\n",
       "      <td>5424</td>\n",
       "      <td>268423</td>\n",
       "      <td>163199.0</td>\n",
       "      <td>-0.501852</td>\n",
       "      <td>1.130585</td>\n",
       "      <td>-0.691944</td>\n",
       "      <td>-0.806746</td>\n",
       "      <td>0.834618</td>\n",
       "      <td>-0.284606</td>\n",
       "      <td>...</td>\n",
       "      <td>0.131179</td>\n",
       "      <td>0.324635</td>\n",
       "      <td>1.173374</td>\n",
       "      <td>-0.060187</td>\n",
       "      <td>0.274649</td>\n",
       "      <td>-0.719956</td>\n",
       "      <td>-0.240001</td>\n",
       "      <td>0.582765</td>\n",
       "      <td>0.418206</td>\n",
       "      <td>0.89</td>\n",
       "    </tr>\n",
       "    <tr>\n",
       "      <th>...</th>\n",
       "      <td>...</td>\n",
       "      <td>...</td>\n",
       "      <td>...</td>\n",
       "      <td>...</td>\n",
       "      <td>...</td>\n",
       "      <td>...</td>\n",
       "      <td>...</td>\n",
       "      <td>...</td>\n",
       "      <td>...</td>\n",
       "      <td>...</td>\n",
       "      <td>...</td>\n",
       "      <td>...</td>\n",
       "      <td>...</td>\n",
       "      <td>...</td>\n",
       "      <td>...</td>\n",
       "      <td>...</td>\n",
       "      <td>...</td>\n",
       "      <td>...</td>\n",
       "      <td>...</td>\n",
       "      <td>...</td>\n",
       "      <td>...</td>\n",
       "    </tr>\n",
       "    <tr>\n",
       "      <th>6689</th>\n",
       "      <td>6556</td>\n",
       "      <td>6712</td>\n",
       "      <td>99755</td>\n",
       "      <td>67266.0</td>\n",
       "      <td>1.261295</td>\n",
       "      <td>-1.486642</td>\n",
       "      <td>0.443586</td>\n",
       "      <td>-1.492442</td>\n",
       "      <td>-1.522909</td>\n",
       "      <td>0.068231</td>\n",
       "      <td>...</td>\n",
       "      <td>-0.235136</td>\n",
       "      <td>-0.271468</td>\n",
       "      <td>-0.705623</td>\n",
       "      <td>0.091964</td>\n",
       "      <td>-0.386851</td>\n",
       "      <td>-0.007802</td>\n",
       "      <td>-0.382938</td>\n",
       "      <td>0.028927</td>\n",
       "      <td>0.025985</td>\n",
       "      <td>104.86</td>\n",
       "    </tr>\n",
       "    <tr>\n",
       "      <th>949</th>\n",
       "      <td>6323</td>\n",
       "      <td>499</td>\n",
       "      <td>130591</td>\n",
       "      <td>79387.0</td>\n",
       "      <td>1.235082</td>\n",
       "      <td>0.170224</td>\n",
       "      <td>0.390384</td>\n",
       "      <td>0.432030</td>\n",
       "      <td>-0.280641</td>\n",
       "      <td>-0.483902</td>\n",
       "      <td>...</td>\n",
       "      <td>-0.076749</td>\n",
       "      <td>-0.227531</td>\n",
       "      <td>-0.707250</td>\n",
       "      <td>0.083207</td>\n",
       "      <td>-0.006427</td>\n",
       "      <td>0.224393</td>\n",
       "      <td>0.097698</td>\n",
       "      <td>-0.034901</td>\n",
       "      <td>0.005635</td>\n",
       "      <td>4.49</td>\n",
       "    </tr>\n",
       "    <tr>\n",
       "      <th>5888</th>\n",
       "      <td>7787</td>\n",
       "      <td>6775</td>\n",
       "      <td>238973</td>\n",
       "      <td>149900.0</td>\n",
       "      <td>-0.860790</td>\n",
       "      <td>-0.124587</td>\n",
       "      <td>0.909796</td>\n",
       "      <td>-1.252155</td>\n",
       "      <td>-0.773825</td>\n",
       "      <td>-0.550487</td>\n",
       "      <td>...</td>\n",
       "      <td>-0.622380</td>\n",
       "      <td>-0.011356</td>\n",
       "      <td>0.375244</td>\n",
       "      <td>-0.124640</td>\n",
       "      <td>-0.069581</td>\n",
       "      <td>-0.698924</td>\n",
       "      <td>0.634994</td>\n",
       "      <td>-0.048642</td>\n",
       "      <td>0.067132</td>\n",
       "      <td>31.49</td>\n",
       "    </tr>\n",
       "    <tr>\n",
       "      <th>6769</th>\n",
       "      <td>2561</td>\n",
       "      <td>694</td>\n",
       "      <td>168820</td>\n",
       "      <td>119400.0</td>\n",
       "      <td>-1.367543</td>\n",
       "      <td>-0.567691</td>\n",
       "      <td>1.977327</td>\n",
       "      <td>-1.118169</td>\n",
       "      <td>0.800083</td>\n",
       "      <td>-0.530428</td>\n",
       "      <td>...</td>\n",
       "      <td>0.493280</td>\n",
       "      <td>0.012114</td>\n",
       "      <td>-0.182791</td>\n",
       "      <td>-0.077342</td>\n",
       "      <td>-0.391381</td>\n",
       "      <td>0.113875</td>\n",
       "      <td>1.176804</td>\n",
       "      <td>-0.243785</td>\n",
       "      <td>-0.134437</td>\n",
       "      <td>65.70</td>\n",
       "    </tr>\n",
       "    <tr>\n",
       "      <th>7401</th>\n",
       "      <td>8074</td>\n",
       "      <td>1303</td>\n",
       "      <td>23514</td>\n",
       "      <td>32797.0</td>\n",
       "      <td>-0.707993</td>\n",
       "      <td>0.882985</td>\n",
       "      <td>1.686450</td>\n",
       "      <td>0.248583</td>\n",
       "      <td>0.145034</td>\n",
       "      <td>-0.526374</td>\n",
       "      <td>...</td>\n",
       "      <td>-0.013010</td>\n",
       "      <td>-0.262474</td>\n",
       "      <td>-0.358913</td>\n",
       "      <td>-0.069223</td>\n",
       "      <td>0.379675</td>\n",
       "      <td>0.041736</td>\n",
       "      <td>-0.756190</td>\n",
       "      <td>-0.094876</td>\n",
       "      <td>-0.109343</td>\n",
       "      <td>29.00</td>\n",
       "    </tr>\n",
       "  </tbody>\n",
       "</table>\n",
       "<p>1899 rows × 33 columns</p>\n",
       "</div>"
      ],
      "text/plain": [
       "      Unnamed: 0.2  Unnamed: 0.1  Unnamed: 0      Time        V1        V2  \\\n",
       "8748          5695          1433      126952   78158.0  1.160327 -1.416541   \n",
       "7970          2739          9347       26933   34314.0 -1.623773 -0.800288   \n",
       "3976          7845          6304      103854   68822.0 -0.310685  1.146024   \n",
       "8228          3533          1298       14079   25057.0  1.222646  0.548599   \n",
       "5508          3364          5424      268423  163199.0 -0.501852  1.130585   \n",
       "...            ...           ...         ...       ...       ...       ...   \n",
       "6689          6556          6712       99755   67266.0  1.261295 -1.486642   \n",
       "949           6323           499      130591   79387.0  1.235082  0.170224   \n",
       "5888          7787          6775      238973  149900.0 -0.860790 -0.124587   \n",
       "6769          2561           694      168820  119400.0 -1.367543 -0.567691   \n",
       "7401          8074          1303       23514   32797.0 -0.707993  0.882985   \n",
       "\n",
       "            V3        V4        V5        V6  ...       V20       V21  \\\n",
       "8748  0.978754 -0.330249 -1.638599  0.452144  ...  0.226366  0.090156   \n",
       "7970  2.632139  1.224768  0.148780  0.141212  ...  0.464054  0.413708   \n",
       "3976  0.673147  1.017791 -0.362576 -0.821842  ... -0.112985  0.182358   \n",
       "8228 -0.005054  1.266393  0.297965 -0.672256  ... -0.209527 -0.114414   \n",
       "5508 -0.691944 -0.806746  0.834618 -0.284606  ...  0.131179  0.324635   \n",
       "...        ...       ...       ...       ...  ...       ...       ...   \n",
       "6689  0.443586 -1.492442 -1.522909  0.068231  ... -0.235136 -0.271468   \n",
       "949   0.390384  0.432030 -0.280641 -0.483902  ... -0.076749 -0.227531   \n",
       "5888  0.909796 -1.252155 -0.773825 -0.550487  ... -0.622380 -0.011356   \n",
       "6769  1.977327 -1.118169  0.800083 -0.530428  ...  0.493280  0.012114   \n",
       "7401  1.686450  0.248583  0.145034 -0.526374  ... -0.013010 -0.262474   \n",
       "\n",
       "           V22       V23       V24       V25       V26       V27       V28  \\\n",
       "8748  0.248254 -0.246138 -0.411164  0.478695 -0.075079  0.044783  0.035579   \n",
       "7970  0.749614  0.160144  0.203321  0.253061 -0.124117  0.052879  0.105279   \n",
       "3976  0.390255 -0.000901  0.378285 -0.136017 -0.327143 -0.053600 -0.017405   \n",
       "8228 -0.001864 -0.111510  0.036830  0.756945 -0.306428 -0.019001  0.002613   \n",
       "5508  1.173374 -0.060187  0.274649 -0.719956 -0.240001  0.582765  0.418206   \n",
       "...        ...       ...       ...       ...       ...       ...       ...   \n",
       "6689 -0.705623  0.091964 -0.386851 -0.007802 -0.382938  0.028927  0.025985   \n",
       "949  -0.707250  0.083207 -0.006427  0.224393  0.097698 -0.034901  0.005635   \n",
       "5888  0.375244 -0.124640 -0.069581 -0.698924  0.634994 -0.048642  0.067132   \n",
       "6769 -0.182791 -0.077342 -0.391381  0.113875  1.176804 -0.243785 -0.134437   \n",
       "7401 -0.358913 -0.069223  0.379675  0.041736 -0.756190 -0.094876 -0.109343   \n",
       "\n",
       "      Amount  \n",
       "8748  120.00  \n",
       "7970  118.70  \n",
       "3976   31.24  \n",
       "8228    8.99  \n",
       "5508    0.89  \n",
       "...      ...  \n",
       "6689  104.86  \n",
       "949     4.49  \n",
       "5888   31.49  \n",
       "6769   65.70  \n",
       "7401   29.00  \n",
       "\n",
       "[1899 rows x 33 columns]"
      ]
     },
     "execution_count": 111,
     "metadata": {},
     "output_type": "execute_result"
    }
   ],
   "source": [
    "x_test"
   ]
  },
  {
   "cell_type": "code",
   "execution_count": null,
   "metadata": {},
   "outputs": [],
   "source": []
  },
  {
   "cell_type": "code",
   "execution_count": 112,
   "metadata": {},
   "outputs": [
    {
     "data": {
      "text/plain": [
       "'[[5695,1433,126952,78158.0,1.1603273003,-1.4165414737,0.9787540328,-0.3302488866,-1.6385989635,0.4521442041,-1.3352283376,0.2449237768,0.7085835456,0.2847758661,-1.9658107777,-0.9927705403,-0.8843604728,-1.0294687348,-0.9277939126,0.933958309,0.5797084416,-1.0006669414,1.2500521354,0.2263662782,0.09015574,0.2482544957,-0.2461375574,-0.4111638485,0.4786954501,-0.0750787656,0.0447831149,0.0355788506,120.0]]'"
      ]
     },
     "execution_count": 112,
     "metadata": {},
     "output_type": "execute_result"
    }
   ],
   "source": [
    "x_test.head(1).to_json(orient='values')"
   ]
  },
  {
   "cell_type": "code",
   "execution_count": null,
   "metadata": {},
   "outputs": [],
   "source": []
  },
  {
   "cell_type": "code",
   "execution_count": null,
   "metadata": {},
   "outputs": [],
   "source": []
  },
  {
   "cell_type": "code",
   "execution_count": null,
   "metadata": {},
   "outputs": [],
   "source": []
  },
  {
   "cell_type": "code",
   "execution_count": null,
   "metadata": {},
   "outputs": [],
   "source": []
  },
  {
   "cell_type": "code",
   "execution_count": null,
   "metadata": {},
   "outputs": [],
   "source": []
  },
  {
   "cell_type": "code",
   "execution_count": null,
   "metadata": {},
   "outputs": [],
   "source": []
  },
  {
   "cell_type": "code",
   "execution_count": null,
   "metadata": {},
   "outputs": [],
   "source": []
  }
 ],
 "metadata": {
  "kernelspec": {
   "display_name": "credit",
   "language": "python",
   "name": "credit"
  },
  "language_info": {
   "codemirror_mode": {
    "name": "ipython",
    "version": 3
   },
   "file_extension": ".py",
   "mimetype": "text/x-python",
   "name": "python",
   "nbconvert_exporter": "python",
   "pygments_lexer": "ipython3",
   "version": "3.9.12"
  }
 },
 "nbformat": 4,
 "nbformat_minor": 4
}
